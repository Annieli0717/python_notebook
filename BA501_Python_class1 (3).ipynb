{
 "cells": [
  {
   "cell_type": "code",
   "execution_count": null,
   "metadata": {},
   "outputs": [],
   "source": [
    "###### Test if your notebook works"
   ]
  },
  {
   "cell_type": "code",
   "execution_count": 2,
   "metadata": {},
   "outputs": [
    {
     "name": "stdout",
     "output_type": "stream",
     "text": [
      "hello worldxx\n"
     ]
    }
   ],
   "source": [
    "print(\"hello worldxx\")"
   ]
  },
  {
   "cell_type": "code",
   "execution_count": null,
   "metadata": {},
   "outputs": [],
   "source": [
    "###### Import libraries"
   ]
  },
  {
   "cell_type": "code",
   "execution_count": null,
   "metadata": {},
   "outputs": [],
   "source": [
    "import numpy as np\n",
    "import pandas as pd\n",
    "import scipy"
   ]
  },
  {
   "cell_type": "code",
   "execution_count": null,
   "metadata": {},
   "outputs": [],
   "source": [
    "###### Variables"
   ]
  },
  {
   "cell_type": "code",
   "execution_count": null,
   "metadata": {},
   "outputs": [],
   "source": [
    "# number\n",
    "x = 5\n",
    "y = 6\n",
    "print(x + y)\n",
    "\n",
    "# string\n",
    "my_string = \"python\"\n",
    "print(my_string)"
   ]
  },
  {
   "cell_type": "code",
   "execution_count": null,
   "metadata": {},
   "outputs": [],
   "source": [
    "###### String operation"
   ]
  },
  {
   "cell_type": "code",
   "execution_count": null,
   "metadata": {},
   "outputs": [],
   "source": [
    "# length of a string\n",
    "len(my_string)\n",
    "\n",
    "# concatenation\n",
    "print(\"my \" + my_string)\n",
    "\n",
    "# coercion\n",
    "x=5\n",
    "print(\"my \" + my_string + \" is level \" + str(x))\n",
    "\n",
    "# visit a character: 0-index\n",
    "my_string[3]\n",
    "my_string[-1]\n",
    "# zuo bi you kai\n",
    "# first 2 characters?\n",
    "my_string[0:2]\n",
    "\n",
    "# string manipulations\n",
    "my_string.upper()\n",
    "my_string.replace(\"y\", \"yyyy\")\n",
    "my_string.find(\"y\")"
   ]
  },
  {
   "cell_type": "code",
   "execution_count": null,
   "metadata": {},
   "outputs": [],
   "source": [
    "###### List"
   ]
  },
  {
   "cell_type": "code",
   "execution_count": null,
   "metadata": {},
   "outputs": [],
   "source": [
    "colors = [\"red\", \"blue\", \"green\"]\n",
    "#print(colors)\n",
    "#print(colors[0])\n",
    "#print(len(colors))\n",
    "\n",
    "# manipulation\n",
    "# append at the bottom\n",
    "colors.append(\"yellow\")\n",
    "print(colors)\n",
    "\n",
    "# insert at any position\n",
    "colors.insert(1, \"pink\")\n",
    "print(colors)\n",
    "\n",
    "# remove an element\n",
    "colors.pop(1)\n",
    "print(colors)\n",
    "\n",
    "# search for an element\n",
    "colors.index(\"green\")\n",
    "\n",
    "# quiz: what about other stuff? remove duplicate?\n",
    "# answer: use numpy which handles this type of stuff"
   ]
  },
  {
   "cell_type": "code",
   "execution_count": null,
   "metadata": {},
   "outputs": [],
   "source": [
    "###### control flow"
   ]
  },
  {
   "cell_type": "code",
   "execution_count": null,
   "metadata": {},
   "outputs": [],
   "source": [
    "# if/else. simple example\n",
    "x = 10\n",
    "if x == 5:\n",
    "    print(\"Yes\")\n",
    "else:\n",
    "    print(\"No\")"
   ]
  },
  {
   "cell_type": "code",
   "execution_count": null,
   "metadata": {},
   "outputs": [],
   "source": [
    "# if/else. complex example\n",
    "speed = 82\n",
    "mood = \"bad\"\n",
    "\n",
    "if speed >= 80:\n",
    "    print 'License and registration please'\n",
    "    if mood == 'terrible' or speed >= 100:\n",
    "        print 'You have the right to remain silent.'\n",
    "    elif mood == 'bad' or speed >= 90:\n",
    "        print \"I'm going to have to write you a ticket.\"\n",
    "    else:\n",
    "        print \"Let's try to keep it under 80 ok?\""
   ]
  },
  {
   "cell_type": "code",
   "execution_count": null,
   "metadata": {},
   "outputs": [],
   "source": [
    "# for loop\n",
    "primes = [2, 3, 5, 7]\n",
    "for prime in primes:\n",
    "    print(prime)"
   ]
  },
  {
   "cell_type": "code",
   "execution_count": null,
   "metadata": {},
   "outputs": [],
   "source": [
    "# tuple\n",
    "my_tuple = (\"price\", 5.7)\n",
    "print(len(my_tuple))\n",
    "print(my_tuple[1])"
   ]
  },
  {
   "cell_type": "code",
   "execution_count": null,
   "metadata": {},
   "outputs": [],
   "source": [
    "###### numpy array"
   ]
  },
  {
   "cell_type": "code",
   "execution_count": null,
   "metadata": {},
   "outputs": [],
   "source": [
    "# on 1d array, which is essentially a list.\n",
    "my_array = np.array([1, 2, 3, 4])\n",
    "\n",
    "# similar to list operation\n",
    "len(my_array)\n",
    "my_array[1]\n",
    "my_array[my_array>2]\n",
    "\n",
    "# aggregation\n",
    "my_array.sum()\n",
    "my_array.max()\n",
    "my_array.mean()\n",
    "\n",
    "# remove duplicate\n",
    "my_array = np.array([1, 2, 2, 4, 5])\n",
    "np.unique(my_array)\n",
    "\n",
    "# add/remove element\n",
    "np.append(my_array, 6)\n",
    "np.insert(my_array, 3, 3)\n",
    "np.delete(my_array, [1])"
   ]
  },
  {
   "cell_type": "code",
   "execution_count": null,
   "metadata": {},
   "outputs": [],
   "source": [
    "###### pandas dataframe"
   ]
  },
  {
   "cell_type": "code",
   "execution_count": null,
   "metadata": {},
   "outputs": [],
   "source": [
    "###### pandas basic"
   ]
  },
  {
   "cell_type": "code",
   "execution_count": null,
   "metadata": {},
   "outputs": [],
   "source": [
    "df = pd.DataFrame(\n",
    "    {\n",
    "        \"customer_id\": [\"A\", \"B\", \"C\"],\n",
    "        \"date\": [\"5/1/2017\", \"5/8/2017\", \"5/11/2017\"],\n",
    "        \"spend\": [10, 5, 20]\n",
    "    },\n",
    "    #index = [1, 2, 3],\n",
    "    columns = [\"customer_id\", \"date\", \"spend\"]\n",
    ")\n",
    "\n",
    "# every row can be a list or numpy array\n",
    "\n",
    "# describe table\n",
    "df.shape\n",
    "\n",
    "# subset columns\n",
    "df[\"spend\"] #-> an array\n",
    "df[[\"spend\"]] #->a dataframe\n",
    "df[[\"customer_id\", \"spend\"]] \n",
    "\n",
    "# subset rows\n",
    "df.sample(n = 1)\n",
    "df.head(n = 1)"
   ]
  },
  {
   "cell_type": "code",
   "execution_count": null,
   "metadata": {},
   "outputs": [],
   "source": [
    "###### pandas data I/O"
   ]
  },
  {
   "cell_type": "code",
   "execution_count": null,
   "metadata": {},
   "outputs": [],
   "source": [
    "# from csv\n",
    "file_location = \"/Users/mingchang/Downloads/\"\n",
    "file_name = \"BA501_python_data.csv\"\n",
    "my_data = pd.read_csv(file_location + file_name)\n",
    "\n",
    "my_data.head(5)"
   ]
  },
  {
   "cell_type": "code",
   "execution_count": null,
   "metadata": {},
   "outputs": [],
   "source": [
    "###### pandas basic operations"
   ]
  },
  {
   "cell_type": "code",
   "execution_count": null,
   "metadata": {},
   "outputs": [],
   "source": [
    "# select columns\n",
    "my_data[[\"user_id\",\"date\",\"spend_usd\"]].head(5)\n",
    "my_data[\"user_id\"].head(5)\n",
    "np.unique(my_data[\"country\"])\n",
    "\n",
    "# select rows\n",
    "my_data[1:10]\n",
    "my_data[(my_data.user_id == 7250841187939126009) & (my_data.country == \"JP\")]\n",
    "my_data[[\"user_id\",\"date\",\"spend_usd\"]][(my_data.user_id == 7250841187939126009) & (my_data.country == \"JP\")]\n",
    "\n",
    "# create new columns\n",
    "my_data['spend_usd_whole'] = my_data['spend_usd']*5\n",
    "my_data.head(5)\n",
    "\n",
    "# drop this column\n",
    "my_data = my_data.drop(\"spend_usd_whole\", axis = 1)\n",
    "my_data.head(5)"
   ]
  },
  {
   "cell_type": "code",
   "execution_count": null,
   "metadata": {},
   "outputs": [],
   "source": [
    "# change data type\n",
    "# change date into date format\n",
    "my_data.date = pd.to_datetime(my_data.date, format='%Y%m%d')\n",
    "my_data.head(4)"
   ]
  },
  {
   "cell_type": "code",
   "execution_count": null,
   "metadata": {},
   "outputs": [],
   "source": [
    "###### Pandas SQL-like operations"
   ]
  },
  {
   "cell_type": "code",
   "execution_count": null,
   "metadata": {},
   "outputs": [],
   "source": [
    "# select *: see \"select columns\"\n",
    "\n",
    "# where: see \"select rows\"\n",
    "\n",
    "# Groupby: groupby()\n",
    "result = my_data.groupby([\"country\"])[\"spend_usd\"].sum()\n",
    "# select country, sum(usd) from a group by 1;\n",
    "\n",
    "result = my_data.groupby([\"country\"])[\"spend_usd\"].sum().reset_index()\n",
    "result = result.set_index(\"country\")\n",
    "result\n",
    "\n",
    "# save as a new dataframe, and reset your index\n",
    "# Order by: sort_values()\n",
    "my_data = my_data.sort_values(['country','date'],ascending=[True, True])\n",
    "my_data.head(5)\n",
    "\n",
    "# Join: merge()\n",
    "# left join\n",
    "#pd.merge(left_table, right_table,how='left',on='x1')\n",
    "\n",
    "# Union: concat(), stack()\n",
    "#pd.concat([left_table, right_table])"
   ]
  }
 ],
 "metadata": {
  "anaconda-cloud": {},
  "celltoolbar": "Raw Cell Format",
  "kernelspec": {
   "display_name": "Python 3",
   "language": "python",
   "name": "python3"
  },
  "language_info": {
   "codemirror_mode": {
    "name": "ipython",
    "version": 3
   },
   "file_extension": ".py",
   "mimetype": "text/x-python",
   "name": "python",
   "nbconvert_exporter": "python",
   "pygments_lexer": "ipython3",
   "version": "3.6.4"
  }
 },
 "nbformat": 4,
 "nbformat_minor": 1
}
